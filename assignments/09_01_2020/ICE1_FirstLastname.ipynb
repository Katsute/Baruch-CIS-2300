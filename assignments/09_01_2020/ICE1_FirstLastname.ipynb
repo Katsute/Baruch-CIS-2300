{
 "cells": [
  {
   "cell_type": "markdown",
   "metadata": {},
   "source": [
    "                                            ### In Class Exercise-1 ###\n",
    "                                            \n",
    "Create a separate jupyter notebook file called ICE1_FirstLastname to complete the following in-class exercises. Use input, output, variables, F-strings, and other concepts that you learned in this session."
   ]
  },
  {
   "cell_type": "markdown",
   "metadata": {},
   "source": [
    "1. Write a program to get user's firstname, last name, street address, city, state, zipcode and then print the output in a format similar to below: \n",
    "Linmei Huang\n",
    "1 Bernard Baruch Way\n",
    "New York, NY 10010"
   ]
  },
  {
   "cell_type": "code",
   "execution_count": 1,
   "metadata": {},
   "outputs": [
    {
     "name": "stdout",
     "output_type": "stream",
     "text": [
      "Keith Chiu\n",
      "1 Bernard Baruch Way\n",
      "New York, NY 10010\n"
     ]
    }
   ],
   "source": [
    "print(\"Keith Chiu\", \"1 Bernard Baruch Way\", \"New York, NY 10010\", sep='\\n')"
   ]
  },
  {
   "cell_type": "markdown",
   "metadata": {},
   "source": [
    "2. Write a program to output following wages of employees (some are bi-weekly, monthly, and yearly). Be sure to properly format their wages such that they are aligned, with proper formatting: \n",
    "   - Andrew $45,400.66 \n",
    "   - Jack   $999.99 \n",
    "   - Mary   $2,700.05 \n",
    "   - Lisa   $100,030.45"
   ]
  },
  {
   "cell_type": "code",
   "execution_count": 3,
   "metadata": {},
   "outputs": [
    {
     "name": "stdout",
     "output_type": "stream",
     "text": [
      "Andrew\t$45,400.66\n",
      "Jack\t$999.99\n",
      "Mary\t$2,700.05\n",
      "Lisa\t$100,030.45\n"
     ]
    }
   ],
   "source": [
    "stringf = \"${:,.2f}\"\n",
    "print(\n",
    "    \"Andrew\" + '\\t' + stringf.format(45_400.66),\n",
    "    \"Jack\"   + '\\t' + stringf.format(999.99),\n",
    "    \"Mary\"   + '\\t' + stringf.format(2_700.05),\n",
    "    \"Lisa\"   + '\\t' + stringf.format(100_030.45),\n",
    "    sep='\\n'\n",
    ")"
   ]
  }
 ],
 "metadata": {
  "kernelspec": {
   "display_name": "Python 3",
   "language": "python",
   "name": "python3"
  },
  "language_info": {
   "codemirror_mode": {
    "name": "ipython",
    "version": 3
   },
   "file_extension": ".py",
   "mimetype": "text/x-python",
   "name": "python",
   "nbconvert_exporter": "python",
   "pygments_lexer": "ipython3",
   "version": "3.8.3"
  }
 },
 "nbformat": 4,
 "nbformat_minor": 4
}
